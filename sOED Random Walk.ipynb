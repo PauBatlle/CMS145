{
 "cells": [
  {
   "cell_type": "code",
   "execution_count": 177,
   "metadata": {},
   "outputs": [],
   "source": [
    "import numpy as np\n",
    "import matplotlib.pyplot as plt\n",
    "import networkx as nx\n",
    "from scipy.spatial import KDTree\n",
    "from design_policy import *"
   ]
  },
  {
   "cell_type": "code",
   "execution_count": 178,
   "metadata": {},
   "outputs": [],
   "source": [
    "#Problem 1: Given n, sampling uniformly from the n-simplex"
   ]
  },
  {
   "cell_type": "code",
   "execution_count": 179,
   "metadata": {},
   "outputs": [],
   "source": [
    "N_nodes = 10 #Number of node networks\n",
    "world_size = 10 #Number of possible states of the world (in this case = N_nodes)\n",
    "exp_av = 10 #Number of possible experiments at each timestep (in this case = N_nodes)\n",
    "tsteps = 10 #Number of timesteps, we count them as 0...n-1\n",
    "mesh_points = 1000 #Number of samples of the probability simplex\n",
    "sensitivity = 0.99 #Probability you find the RW in the node you are looking for, provided that is is there. \n",
    "specificity = 0.97 #Probability you don't find the RW in the node you are looking for, provided it is not there"
   ]
  },
  {
   "cell_type": "code",
   "execution_count": 180,
   "metadata": {},
   "outputs": [],
   "source": [
    "def sample_simplex(dimension, n_points):\n",
    "    return np.random.dirichlet([1]*dimension, size = n_points)"
   ]
  },
  {
   "cell_type": "code",
   "execution_count": 181,
   "metadata": {},
   "outputs": [
    {
     "output_type": "execute_result",
     "data": {
      "text/plain": [
       "array([[0.73683189, 0.11436849, 0.14879962],\n",
       "       [0.58427506, 0.18105704, 0.2346679 ]])"
      ]
     },
     "metadata": {},
     "execution_count": 181
    }
   ],
   "source": [
    "sample_simplex(3,2)"
   ]
  },
  {
   "cell_type": "code",
   "execution_count": 182,
   "metadata": {},
   "outputs": [],
   "source": [
    "ExperimentsRW = []\n",
    "#Modelling decision: The experiments have a fixed sensitivty and specificity about finding node i\n",
    "for i in range(N_nodes): #i-th matrix: Experiment test node i\n",
    "    M = np.zeros((N_nodes, N_nodes))\n",
    "    for j in range(N_nodes):\n",
    "        for k in range(N_nodes):\n",
    "            if j == k:\n",
    "                if j == i:\n",
    "                    M[j,k] = sensitivity\n",
    "                else:\n",
    "                    M[j,k] = specificity\n",
    "            else:\n",
    "                if k == i:\n",
    "                    M[j,k] = (1-sensitivity)/(N_nodes-1)\n",
    "                else:\n",
    "                    M[j,k] = (1-specificity)/(N_nodes-1)\n",
    "    ExperimentsRW.append(M)"
   ]
  },
  {
   "cell_type": "code",
   "execution_count": 183,
   "metadata": {},
   "outputs": [
    {
     "output_type": "execute_result",
     "data": {
      "text/plain": [
       "array([[0.97      , 0.00333333, 0.00111111, 0.00333333, 0.00333333,\n",
       "        0.00333333, 0.00333333, 0.00333333, 0.00333333, 0.00333333],\n",
       "       [0.00333333, 0.97      , 0.00111111, 0.00333333, 0.00333333,\n",
       "        0.00333333, 0.00333333, 0.00333333, 0.00333333, 0.00333333],\n",
       "       [0.00333333, 0.00333333, 0.99      , 0.00333333, 0.00333333,\n",
       "        0.00333333, 0.00333333, 0.00333333, 0.00333333, 0.00333333],\n",
       "       [0.00333333, 0.00333333, 0.00111111, 0.97      , 0.00333333,\n",
       "        0.00333333, 0.00333333, 0.00333333, 0.00333333, 0.00333333],\n",
       "       [0.00333333, 0.00333333, 0.00111111, 0.00333333, 0.97      ,\n",
       "        0.00333333, 0.00333333, 0.00333333, 0.00333333, 0.00333333],\n",
       "       [0.00333333, 0.00333333, 0.00111111, 0.00333333, 0.00333333,\n",
       "        0.97      , 0.00333333, 0.00333333, 0.00333333, 0.00333333],\n",
       "       [0.00333333, 0.00333333, 0.00111111, 0.00333333, 0.00333333,\n",
       "        0.00333333, 0.97      , 0.00333333, 0.00333333, 0.00333333],\n",
       "       [0.00333333, 0.00333333, 0.00111111, 0.00333333, 0.00333333,\n",
       "        0.00333333, 0.00333333, 0.97      , 0.00333333, 0.00333333],\n",
       "       [0.00333333, 0.00333333, 0.00111111, 0.00333333, 0.00333333,\n",
       "        0.00333333, 0.00333333, 0.00333333, 0.97      , 0.00333333],\n",
       "       [0.00333333, 0.00333333, 0.00111111, 0.00333333, 0.00333333,\n",
       "        0.00333333, 0.00333333, 0.00333333, 0.00333333, 0.97      ]])"
      ]
     },
     "metadata": {},
     "execution_count": 183
    }
   ],
   "source": [
    "ExperimentsRW[4].sum(axis = 0)\n",
    "ExperimentsRW[2]"
   ]
  },
  {
   "cell_type": "code",
   "execution_count": 190,
   "metadata": {},
   "outputs": [
    {
     "output_type": "execute_result",
     "data": {
      "text/plain": [
       "651"
      ]
     },
     "metadata": {},
     "execution_count": 190
    }
   ],
   "source": [
    "grid = sample_simplex(2, 3)\n",
    "NNTree = KDTree(data= grid)\n",
    "NN_index = lambda x: NNTree.query(x)[1]\n",
    "NN_index(0.1*np.ones(10))"
   ]
  },
  {
   "cell_type": "code",
   "execution_count": 185,
   "metadata": {},
   "outputs": [],
   "source": [
    "def Random_walk_dynamics(G):\n",
    "    aux = np.array(nx.adjacency_matrix(G).todense())\n",
    "    return aux/aux.sum(axis=1, keepdims=True)"
   ]
  },
  {
   "cell_type": "code",
   "execution_count": 186,
   "metadata": {},
   "outputs": [],
   "source": [
    "G = nx.erdos_renyi_graph(N_nodes, .2)\n",
    "while not nx.is_connected(G):\n",
    "    G = nx.erdos_renyi_graph(N_nodes, .2)"
   ]
  },
  {
   "cell_type": "code",
   "execution_count": 187,
   "metadata": {},
   "outputs": [
    {
     "output_type": "display_data",
     "data": {
      "text/plain": "<Figure size 432x288 with 1 Axes>",
      "image/svg+xml": "<?xml version=\"1.0\" encoding=\"utf-8\" standalone=\"no\"?>\n<!DOCTYPE svg PUBLIC \"-//W3C//DTD SVG 1.1//EN\"\n  \"http://www.w3.org/Graphics/SVG/1.1/DTD/svg11.dtd\">\n<!-- Created with matplotlib (https://matplotlib.org/) -->\n<svg height=\"302.4pt\" version=\"1.1\" viewBox=\"0 0 446.4 302.4\" width=\"446.4pt\" xmlns=\"http://www.w3.org/2000/svg\" xmlns:xlink=\"http://www.w3.org/1999/xlink\">\n <metadata>\n  <rdf:RDF xmlns:cc=\"http://creativecommons.org/ns#\" xmlns:dc=\"http://purl.org/dc/elements/1.1/\" xmlns:rdf=\"http://www.w3.org/1999/02/22-rdf-syntax-ns#\">\n   <cc:Work>\n    <dc:type rdf:resource=\"http://purl.org/dc/dcmitype/StillImage\"/>\n    <dc:date>2021-05-16T19:39:58.571953</dc:date>\n    <dc:format>image/svg+xml</dc:format>\n    <dc:creator>\n     <cc:Agent>\n      <dc:title>Matplotlib v3.3.4, https://matplotlib.org/</dc:title>\n     </cc:Agent>\n    </dc:creator>\n   </cc:Work>\n  </rdf:RDF>\n </metadata>\n <defs>\n  <style type=\"text/css\">*{stroke-linecap:butt;stroke-linejoin:round;}</style>\n </defs>\n <g id=\"figure_1\">\n  <g id=\"patch_1\">\n   <path d=\"M 0 302.4 \nL 446.4 302.4 \nL 446.4 0 \nL 0 0 \nz\n\" style=\"fill:#ffffff;\"/>\n  </g>\n  <g id=\"axes_1\">\n   <g id=\"LineCollection_1\">\n    <path clip-path=\"url(#p752729b32c)\" d=\"M 419.563636 94.76182 \nL 310.362394 104.829137 \n\" style=\"fill:none;stroke:#000000;\"/>\n    <path clip-path=\"url(#p752729b32c)\" d=\"M 41.585813 169.802121 \nL 111.810514 239.041125 \n\" style=\"fill:none;stroke:#000000;\"/>\n    <path clip-path=\"url(#p752729b32c)\" d=\"M 41.585813 169.802121 \nL 26.836364 282.109091 \n\" style=\"fill:none;stroke:#000000;\"/>\n    <path clip-path=\"url(#p752729b32c)\" d=\"M 41.585813 169.802121 \nL 69.508224 91.025699 \n\" style=\"fill:none;stroke:#000000;\"/>\n    <path clip-path=\"url(#p752729b32c)\" d=\"M 41.585813 169.802121 \nL 84.004148 35.029729 \n\" style=\"fill:none;stroke:#000000;\"/>\n    <path clip-path=\"url(#p752729b32c)\" d=\"M 111.810514 239.041125 \nL 211.798032 147.276016 \n\" style=\"fill:none;stroke:#000000;\"/>\n    <path clip-path=\"url(#p752729b32c)\" d=\"M 111.810514 239.041125 \nL 26.836364 282.109091 \n\" style=\"fill:none;stroke:#000000;\"/>\n    <path clip-path=\"url(#p752729b32c)\" d=\"M 200.426885 79.065796 \nL 172.274078 20.290909 \n\" style=\"fill:none;stroke:#000000;\"/>\n    <path clip-path=\"url(#p752729b32c)\" d=\"M 200.426885 79.065796 \nL 310.362394 104.829137 \n\" style=\"fill:none;stroke:#000000;\"/>\n    <path clip-path=\"url(#p752729b32c)\" d=\"M 200.426885 79.065796 \nL 211.798032 147.276016 \n\" style=\"fill:none;stroke:#000000;\"/>\n    <path clip-path=\"url(#p752729b32c)\" d=\"M 200.426885 79.065796 \nL 69.508224 91.025699 \n\" style=\"fill:none;stroke:#000000;\"/>\n    <path clip-path=\"url(#p752729b32c)\" d=\"M 172.274078 20.290909 \nL 211.798032 147.276016 \n\" style=\"fill:none;stroke:#000000;\"/>\n    <path clip-path=\"url(#p752729b32c)\" d=\"M 172.274078 20.290909 \nL 84.004148 35.029729 \n\" style=\"fill:none;stroke:#000000;\"/>\n    <path clip-path=\"url(#p752729b32c)\" d=\"M 310.362394 104.829137 \nL 211.798032 147.276016 \n\" style=\"fill:none;stroke:#000000;\"/>\n   </g>\n   <g id=\"PathCollection_1\">\n    <defs>\n     <path d=\"M 0 8.660254 \nC 2.296726 8.660254 4.499694 7.747755 6.123724 6.123724 \nC 7.747755 4.499694 8.660254 2.296726 8.660254 0 \nC 8.660254 -2.296726 7.747755 -4.499694 6.123724 -6.123724 \nC 4.499694 -7.747755 2.296726 -8.660254 0 -8.660254 \nC -2.296726 -8.660254 -4.499694 -7.747755 -6.123724 -6.123724 \nC -7.747755 -4.499694 -8.660254 -2.296726 -8.660254 0 \nC -8.660254 2.296726 -7.747755 4.499694 -6.123724 6.123724 \nC -4.499694 7.747755 -2.296726 8.660254 0 8.660254 \nz\n\" id=\"ma3c9772642\" style=\"stroke:#1f78b4;\"/>\n    </defs>\n    <g clip-path=\"url(#p752729b32c)\">\n     <use style=\"fill:#1f78b4;stroke:#1f78b4;\" x=\"419.563636\" xlink:href=\"#ma3c9772642\" y=\"94.76182\"/>\n     <use style=\"fill:#1f78b4;stroke:#1f78b4;\" x=\"41.585813\" xlink:href=\"#ma3c9772642\" y=\"169.802121\"/>\n     <use style=\"fill:#1f78b4;stroke:#1f78b4;\" x=\"111.810514\" xlink:href=\"#ma3c9772642\" y=\"239.041125\"/>\n     <use style=\"fill:#1f78b4;stroke:#1f78b4;\" x=\"200.426885\" xlink:href=\"#ma3c9772642\" y=\"79.065796\"/>\n     <use style=\"fill:#1f78b4;stroke:#1f78b4;\" x=\"172.274078\" xlink:href=\"#ma3c9772642\" y=\"20.290909\"/>\n     <use style=\"fill:#1f78b4;stroke:#1f78b4;\" x=\"310.362394\" xlink:href=\"#ma3c9772642\" y=\"104.829137\"/>\n     <use style=\"fill:#1f78b4;stroke:#1f78b4;\" x=\"211.798032\" xlink:href=\"#ma3c9772642\" y=\"147.276016\"/>\n     <use style=\"fill:#1f78b4;stroke:#1f78b4;\" x=\"26.836364\" xlink:href=\"#ma3c9772642\" y=\"282.109091\"/>\n     <use style=\"fill:#1f78b4;stroke:#1f78b4;\" x=\"69.508224\" xlink:href=\"#ma3c9772642\" y=\"91.025699\"/>\n     <use style=\"fill:#1f78b4;stroke:#1f78b4;\" x=\"84.004148\" xlink:href=\"#ma3c9772642\" y=\"35.029729\"/>\n    </g>\n   </g>\n  </g>\n </g>\n <defs>\n  <clipPath id=\"p752729b32c\">\n   <rect height=\"288\" width=\"432\" x=\"7.2\" y=\"7.2\"/>\n  </clipPath>\n </defs>\n</svg>\n",
      "image/png": "[encoded data removed]"
     },
     "metadata": {}
    }
   ],
   "source": [
    "nx.draw(G)"
   ]
  },
  {
   "cell_type": "code",
   "execution_count": 188,
   "metadata": {},
   "outputs": [],
   "source": [
    "trans_matrix = Random_walk_dynamics(G)"
   ]
  },
  {
   "cell_type": "code",
   "execution_count": 177,
   "metadata": {},
   "outputs": [],
   "source": [
    "experiment = ExperimentsRW[1]"
   ]
  },
  {
   "cell_type": "code",
   "execution_count": 178,
   "metadata": {},
   "outputs": [],
   "source": [
    "prior = [0.1]*8 + [0.15, 0.05]"
   ]
  },
  {
   "cell_type": "code",
   "execution_count": 184,
   "metadata": {},
   "outputs": [],
   "source": [
    "Ptest = experiment@prior"
   ]
  },
  {
   "cell_type": "code",
   "execution_count": 219,
   "metadata": {},
   "outputs": [
    {
     "data": {
      "text/plain": [
       "array([0.00334076, 0.00111359, 0.00334076, 0.00334076, 0.97216036,\n",
       "       0.00334076, 0.00334076, 0.00334076, 0.00501114, 0.00167038])"
      ]
     },
     "execution_count": 219,
     "metadata": {},
     "output_type": "execute_result"
    }
   ],
   "source": [
    "np.multiply(experiment[4,:], prior)/Ptest[4]"
   ]
  },
  {
   "cell_type": "code",
   "execution_count": 181,
   "metadata": {},
   "outputs": [],
   "source": [
    "P = np.vstack([prior]*experiment.shape[0]).T"
   ]
  },
  {
   "cell_type": "code",
   "execution_count": 235,
   "metadata": {},
   "outputs": [],
   "source": [
    "from scipy.stats import entropy\n",
    "def dKL(prior, posterior):\n",
    "    return entropy(posterior, prior, base = 2)\n",
    "\n",
    "def reward(time, prior, experiment): #This should be a class and the example here just one instance\n",
    "    #Experiment is a |S|x|Θ| matrix\n",
    "    #Prior a |Θ| vector\n",
    "    #Time = number of experiments done *before* this\n",
    "    if time < tsteps-1:\n",
    "        return 0\n",
    "    Ptest = experiment@prior\n",
    "    Posterior = np.divide(np.multiply(experiment, prior),Ptest.reshape(-1,1))\n",
    "    return sum([Ptest[i]*dKL(prior, Posterior[i,:]) for i in range(experiment.shape[0])])\n",
    "    \n",
    "        "
   ]
  },
  {
   "cell_type": "raw",
   "metadata": {},
   "source": [
    "#Value iteration"
   ]
  },
  {
   "cell_type": "code",
   "execution_count": null,
   "metadata": {},
   "outputs": [],
   "source": []
  },
  {
   "cell_type": "code",
   "execution_count": 243,
   "metadata": {},
   "outputs": [
    {
     "ename": "KeyboardInterrupt",
     "evalue": "",
     "output_type": "error",
     "traceback": [
      "\u001b[1;31m---------------------------------------------------------------------------\u001b[0m",
      "\u001b[1;31mKeyboardInterrupt\u001b[0m                         Traceback (most recent call last)",
      "\u001b[1;32m<ipython-input-243-199e76b1c7aa>\u001b[0m in \u001b[0;36m<module>\u001b[1;34m\u001b[0m\n\u001b[0;32m      2\u001b[0m \u001b[0mconvergence_criterion\u001b[0m \u001b[1;33m=\u001b[0m \u001b[1;32mFalse\u001b[0m\u001b[1;33m\u001b[0m\u001b[1;33m\u001b[0m\u001b[0m\n\u001b[0;32m      3\u001b[0m \u001b[1;32mwhile\u001b[0m \u001b[1;32mnot\u001b[0m \u001b[0mconvergence_criterion\u001b[0m\u001b[1;33m:\u001b[0m\u001b[1;33m\u001b[0m\u001b[1;33m\u001b[0m\u001b[0m\n\u001b[1;32m----> 4\u001b[1;33m     \u001b[1;32mpass\u001b[0m\u001b[1;33m\u001b[0m\u001b[1;33m\u001b[0m\u001b[0m\n\u001b[0m",
      "\u001b[1;31mKeyboardInterrupt\u001b[0m: "
     ]
    }
   ],
   "source": [
    "V = np.random.random(size = (N_nodes, tsteps))\n",
    "convergence_criterion = False\n",
    "while not convergence_criterion:\n",
    "    pass"
   ]
  },
  {
   "cell_type": "code",
   "execution_count": null,
   "metadata": {},
   "outputs": [],
   "source": []
  }
 ],
 "metadata": {
  "kernelspec": {
   "display_name": "Python 3",
   "language": "python",
   "name": "python3"
  },
  "language_info": {
   "codemirror_mode": {
    "name": "ipython",
    "version": 3
   },
   "file_extension": ".py",
   "mimetype": "text/x-python",
   "name": "python",
   "nbconvert_exporter": "python",
   "pygments_lexer": "ipython3",
   "version": "3.8.5"
  }
 },
 "nbformat": 4,
 "nbformat_minor": 4
}