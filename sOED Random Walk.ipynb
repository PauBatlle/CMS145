{
 "cells": [
  {
   "cell_type": "code",
   "execution_count": 2,
   "metadata": {},
   "outputs": [],
   "source": [
    "import numpy as np\n",
    "import matplotlib.pyplot as plt\n",
    "import networkx as nx\n",
    "from scipy.spatial import KDTree"
   ]
  },
  {
   "cell_type": "code",
   "execution_count": 3,
   "metadata": {},
   "outputs": [],
   "source": [
    "#Problem 1: Given n, sampling uniformly from the n-simplex"
   ]
  },
  {
   "cell_type": "code",
   "execution_count": 4,
   "metadata": {},
   "outputs": [],
   "source": [
    "def sample_simplex(dimension, n_points):\n",
    "    return np.random.dirichlet([1]*dimension, size = n_points)"
   ]
  },
  {
   "cell_type": "code",
   "execution_count": 11,
   "metadata": {},
   "outputs": [
    {
     "output_type": "execute_result",
     "data": {
      "text/plain": [
       "array([[0.20987384, 0.7003598 , 0.08976636],\n",
       "       [0.7705329 , 0.12755704, 0.10191006]])"
      ]
     },
     "metadata": {},
     "execution_count": 11
    }
   ],
   "source": [
    "sample_simplex(3,2)"
   ]
  },
  {
   "cell_type": "code",
   "execution_count": 5,
   "metadata": {},
   "outputs": [],
   "source": [
    "N_nodes = 10 #Number of node networks\n",
    "world_size = 10 #Number of possible states of the world (in this case = N_nodes)\n",
    "exp_av = 10 #Number of possible experiments at each timestep (in this case = N_nodes)\n",
    "tsteps = 10 #Number of timesteps, we count them as 0...n-1\n",
    "mesh_points = 1000 #Number of samples of the probability simplex\n",
    "sensitivity = 0.99 #Probability you find the RW in the node you are looking for, provided that is is there. \n",
    "specificity = 0.97 #Probability you don't find the RW in the node you are looking for, provided it is not there"
   ]
  },
  {
   "cell_type": "code",
   "execution_count": 6,
   "metadata": {},
   "outputs": [],
   "source": [
    "ExperimentsRW = []\n",
    "#Modelling decision: The experiments have a fixed sensitivty and specificity about finding node i\n",
    "for i in range(N_nodes): #i-th matrix: Experiment test node i\n",
    "    M = np.zeros((N_nodes, N_nodes))\n",
    "    for j in range(N_nodes):\n",
    "        for k in range(N_nodes):\n",
    "            if j == k:\n",
    "                if j == i:\n",
    "                    M[j,k] = sensitivity\n",
    "                else:\n",
    "                    M[j,k] = specificity\n",
    "            else:\n",
    "                if k == i:\n",
    "                    M[j,k] = (1-sensitivity)/(N_nodes-1)\n",
    "                else:\n",
    "                    M[j,k] = (1-specificity)/(N_nodes-1)\n",
    "    ExperimentsRW.append(M)"
   ]
  },
  {
   "cell_type": "code",
   "execution_count": 9,
   "metadata": {},
   "outputs": [
    {
     "output_type": "execute_result",
     "data": {
      "text/plain": [
       "array([[0.97      , 0.00333333, 0.00111111, 0.00333333, 0.00333333,\n",
       "        0.00333333, 0.00333333, 0.00333333, 0.00333333, 0.00333333],\n",
       "       [0.00333333, 0.97      , 0.00111111, 0.00333333, 0.00333333,\n",
       "        0.00333333, 0.00333333, 0.00333333, 0.00333333, 0.00333333],\n",
       "       [0.00333333, 0.00333333, 0.99      , 0.00333333, 0.00333333,\n",
       "        0.00333333, 0.00333333, 0.00333333, 0.00333333, 0.00333333],\n",
       "       [0.00333333, 0.00333333, 0.00111111, 0.97      , 0.00333333,\n",
       "        0.00333333, 0.00333333, 0.00333333, 0.00333333, 0.00333333],\n",
       "       [0.00333333, 0.00333333, 0.00111111, 0.00333333, 0.97      ,\n",
       "        0.00333333, 0.00333333, 0.00333333, 0.00333333, 0.00333333],\n",
       "       [0.00333333, 0.00333333, 0.00111111, 0.00333333, 0.00333333,\n",
       "        0.97      , 0.00333333, 0.00333333, 0.00333333, 0.00333333],\n",
       "       [0.00333333, 0.00333333, 0.00111111, 0.00333333, 0.00333333,\n",
       "        0.00333333, 0.97      , 0.00333333, 0.00333333, 0.00333333],\n",
       "       [0.00333333, 0.00333333, 0.00111111, 0.00333333, 0.00333333,\n",
       "        0.00333333, 0.00333333, 0.97      , 0.00333333, 0.00333333],\n",
       "       [0.00333333, 0.00333333, 0.00111111, 0.00333333, 0.00333333,\n",
       "        0.00333333, 0.00333333, 0.00333333, 0.97      , 0.00333333],\n",
       "       [0.00333333, 0.00333333, 0.00111111, 0.00333333, 0.00333333,\n",
       "        0.00333333, 0.00333333, 0.00333333, 0.00333333, 0.97      ]])"
      ]
     },
     "metadata": {},
     "execution_count": 9
    }
   ],
   "source": [
    "ExperimentsRW[4].sum(axis = 0)\n",
    "ExperimentsRW[2]"
   ]
  },
  {
   "cell_type": "code",
   "execution_count": 129,
   "metadata": {},
   "outputs": [],
   "source": [
    "grid = sample_simplex(world_size, mesh_points)\n",
    "NNTree = KDTree(data= grid)\n",
    "NN_index = lambda x: NNTree.query(x)[1]"
   ]
  },
  {
   "cell_type": "code",
   "execution_count": 130,
   "metadata": {},
   "outputs": [],
   "source": [
    "def Random_walk_dynamics(G):\n",
    "    aux = np.array(nx.adjacency_matrix(G).todense())\n",
    "    return aux/aux.sum(axis=1, keepdims=True)"
   ]
  },
  {
   "cell_type": "code",
   "execution_count": 131,
   "metadata": {},
   "outputs": [],
   "source": [
    "G = nx.erdos_renyi_graph(10, .2)\n",
    "while not nx.is_connected(G):\n",
    "    G = nx.erdos_renyi_graph(10, .2)"
   ]
  },
  {
   "cell_type": "code",
   "execution_count": 132,
   "metadata": {},
   "outputs": [
    {
     "data": {
      "image/png": "[encoded data removed]",
      "text/plain": [
       "<Figure size 432x288 with 1 Axes>"
      ]
     },
     "metadata": {},
     "output_type": "display_data"
    }
   ],
   "source": [
    "nx.draw(G)"
   ]
  },
  {
   "cell_type": "code",
   "execution_count": 133,
   "metadata": {},
   "outputs": [],
   "source": [
    "trans_matrix = Random_walk_dynamics(G)"
   ]
  },
  {
   "cell_type": "code",
   "execution_count": 177,
   "metadata": {},
   "outputs": [],
   "source": [
    "experiment = ExperimentsRW[1]"
   ]
  },
  {
   "cell_type": "code",
   "execution_count": 178,
   "metadata": {},
   "outputs": [],
   "source": [
    "prior = [0.1]*8 + [0.15, 0.05]"
   ]
  },
  {
   "cell_type": "code",
   "execution_count": 184,
   "metadata": {},
   "outputs": [],
   "source": [
    "Ptest = experiment@prior"
   ]
  },
  {
   "cell_type": "code",
   "execution_count": 219,
   "metadata": {},
   "outputs": [
    {
     "data": {
      "text/plain": [
       "array([0.00334076, 0.00111359, 0.00334076, 0.00334076, 0.97216036,\n",
       "       0.00334076, 0.00334076, 0.00334076, 0.00501114, 0.00167038])"
      ]
     },
     "execution_count": 219,
     "metadata": {},
     "output_type": "execute_result"
    }
   ],
   "source": [
    "np.multiply(experiment[4,:], prior)/Ptest[4]"
   ]
  },
  {
   "cell_type": "code",
   "execution_count": 181,
   "metadata": {},
   "outputs": [],
   "source": [
    "P = np.vstack([prior]*experiment.shape[0]).T"
   ]
  },
  {
   "cell_type": "code",
   "execution_count": 235,
   "metadata": {},
   "outputs": [],
   "source": [
    "from scipy.stats import entropy\n",
    "def dKL(prior, posterior):\n",
    "    return entropy(posterior, prior, base = 2)\n",
    "\n",
    "def reward(time, prior, experiment): #This should be a class and the example here just one instance\n",
    "    #Experiment is a |S|x|Θ| matrix\n",
    "    #Prior a |Θ| vector\n",
    "    #Time = number of experiments done *before* this\n",
    "    if time < tsteps-1:\n",
    "        return 0\n",
    "    Ptest = experiment@prior\n",
    "    Posterior = np.divide(np.multiply(experiment, prior),Ptest.reshape(-1,1))\n",
    "    return sum([Ptest[i]*dKL(prior, Posterior[i,:]) for i in range(experiment.shape[0])])\n",
    "    \n",
    "        "
   ]
  },
  {
   "cell_type": "raw",
   "metadata": {},
   "source": [
    "#Value iteration"
   ]
  },
  {
   "cell_type": "code",
   "execution_count": null,
   "metadata": {},
   "outputs": [],
   "source": []
  },
  {
   "cell_type": "code",
   "execution_count": 243,
   "metadata": {},
   "outputs": [
    {
     "ename": "KeyboardInterrupt",
     "evalue": "",
     "output_type": "error",
     "traceback": [
      "\u001b[1;31m---------------------------------------------------------------------------\u001b[0m",
      "\u001b[1;31mKeyboardInterrupt\u001b[0m                         Traceback (most recent call last)",
      "\u001b[1;32m<ipython-input-243-199e76b1c7aa>\u001b[0m in \u001b[0;36m<module>\u001b[1;34m\u001b[0m\n\u001b[0;32m      2\u001b[0m \u001b[0mconvergence_criterion\u001b[0m \u001b[1;33m=\u001b[0m \u001b[1;32mFalse\u001b[0m\u001b[1;33m\u001b[0m\u001b[1;33m\u001b[0m\u001b[0m\n\u001b[0;32m      3\u001b[0m \u001b[1;32mwhile\u001b[0m \u001b[1;32mnot\u001b[0m \u001b[0mconvergence_criterion\u001b[0m\u001b[1;33m:\u001b[0m\u001b[1;33m\u001b[0m\u001b[1;33m\u001b[0m\u001b[0m\n\u001b[1;32m----> 4\u001b[1;33m     \u001b[1;32mpass\u001b[0m\u001b[1;33m\u001b[0m\u001b[1;33m\u001b[0m\u001b[0m\n\u001b[0m",
      "\u001b[1;31mKeyboardInterrupt\u001b[0m: "
     ]
    }
   ],
   "source": [
    "V = np.random.random(size = (N_nodes, tsteps))\n",
    "convergence_criterion = False\n",
    "while not convergence_criterion:\n",
    "    pass"
   ]
  },
  {
   "cell_type": "code",
   "execution_count": null,
   "metadata": {},
   "outputs": [],
   "source": []
  }
 ],
 "metadata": {
  "kernelspec": {
   "display_name": "Python 3",
   "language": "python",
   "name": "python3"
  },
  "language_info": {
   "codemirror_mode": {
    "name": "ipython",
    "version": 3
   },
   "file_extension": ".py",
   "mimetype": "text/x-python",
   "name": "python",
   "nbconvert_exporter": "python",
   "pygments_lexer": "ipython3",
   "version": "3.8.5"
  }
 },
 "nbformat": 4,
 "nbformat_minor": 4
}